{
 "cells": [
  {
   "cell_type": "code",
   "execution_count": 1,
   "id": "837c16a7-2725-4d82-8c2d-1342dbcd4def",
   "metadata": {},
   "outputs": [
    {
     "name": "stderr",
     "output_type": "stream",
     "text": [
      "C:\\Users\\user\\AppData\\Local\\Programs\\Python\\Python312\\Lib\\site-packages\\dask\\dataframe\\__init__.py:42: FutureWarning: \n",
      "Dask dataframe query planning is disabled because dask-expr is not installed.\n",
      "\n",
      "You can install it with `pip install dask[dataframe]` or `conda install dask`.\n",
      "This will raise in a future version.\n",
      "\n",
      "  warnings.warn(msg, FutureWarning)\n"
     ]
    }
   ],
   "source": [
    "import numpy as np\n",
    "import pandas as pd\n",
    "import dask.dataframe as dd\n",
    "import matplotlib.pyplot as plt\n",
    "import seaborn as sns\n",
    "import os\n",
    "from matplotlib.ticker import FuncFormatter\n",
    "\n",
    "%matplotlib inline"
   ]
  },
  {
   "cell_type": "markdown",
   "id": "8eddf549-136b-4436-92d6-f7fcbcb47fd2",
   "metadata": {},
   "source": [
    "## 1. Начнём с `train`"
   ]
  },
  {
   "cell_type": "code",
   "execution_count": 2,
   "id": "f5c08061-fc2e-45ee-b744-a719da7c727f",
   "metadata": {},
   "outputs": [],
   "source": [
    "dtypes = {\n",
    "    'row_id': 'int32',\n",
    "    'timestamp': 'int64',\n",
    "    'user_id': 'int32',\n",
    "    'content_id': 'int16',\n",
    "    'content_type_id': 'int8',\n",
    "    'task_container_id': 'int16',\n",
    "    'user_answer': 'int8',\n",
    "    'answered_correctly': 'int8',\n",
    "    'prior_question_elapsed_time': 'float32',\n",
    "    'prior_question_had_explanation': 'boolean'\n",
    "}\n",
    "\n",
    "train = dd.read_csv('train.csv', dtype=dtypes).compute()"
   ]
  },
  {
   "cell_type": "code",
   "execution_count": 3,
   "id": "ed6159dc-b52e-42c3-83ec-744537f520ac",
   "metadata": {
    "scrolled": true
   },
   "outputs": [
    {
     "data": {
      "text/plain": [
       "(101230332, 10)"
      ]
     },
     "execution_count": 3,
     "metadata": {},
     "output_type": "execute_result"
    }
   ],
   "source": [
    "train.shape"
   ]
  },
  {
   "cell_type": "markdown",
   "id": "ea355ddf-d563-4ae5-9663-1c899f65e510",
   "metadata": {},
   "source": [
    "Датасет огромный, 101 миллион строк. Но с `dask` мы его открыли"
   ]
  },
  {
   "cell_type": "code",
   "execution_count": 4,
   "id": "5c69a854-ac1f-489b-ae38-7d5b94da2864",
   "metadata": {},
   "outputs": [
    {
     "data": {
      "text/html": [
       "<div>\n",
       "<style scoped>\n",
       "    .dataframe tbody tr th:only-of-type {\n",
       "        vertical-align: middle;\n",
       "    }\n",
       "\n",
       "    .dataframe tbody tr th {\n",
       "        vertical-align: top;\n",
       "    }\n",
       "\n",
       "    .dataframe thead th {\n",
       "        text-align: right;\n",
       "    }\n",
       "</style>\n",
       "<table border=\"1\" class=\"dataframe\">\n",
       "  <thead>\n",
       "    <tr style=\"text-align: right;\">\n",
       "      <th></th>\n",
       "      <th>row_id</th>\n",
       "      <th>timestamp</th>\n",
       "      <th>user_id</th>\n",
       "      <th>content_id</th>\n",
       "      <th>content_type_id</th>\n",
       "      <th>task_container_id</th>\n",
       "      <th>user_answer</th>\n",
       "      <th>answered_correctly</th>\n",
       "      <th>prior_question_elapsed_time</th>\n",
       "      <th>prior_question_had_explanation</th>\n",
       "    </tr>\n",
       "  </thead>\n",
       "  <tbody>\n",
       "    <tr>\n",
       "      <th>0</th>\n",
       "      <td>0</td>\n",
       "      <td>0</td>\n",
       "      <td>115</td>\n",
       "      <td>5692</td>\n",
       "      <td>0</td>\n",
       "      <td>1</td>\n",
       "      <td>3</td>\n",
       "      <td>1</td>\n",
       "      <td>NaN</td>\n",
       "      <td>&lt;NA&gt;</td>\n",
       "    </tr>\n",
       "  </tbody>\n",
       "</table>\n",
       "</div>"
      ],
      "text/plain": [
       "   row_id  timestamp  user_id  content_id  content_type_id  task_container_id  \\\n",
       "0       0          0      115        5692                0                  1   \n",
       "\n",
       "   user_answer  answered_correctly  prior_question_elapsed_time  \\\n",
       "0            3                   1                          NaN   \n",
       "\n",
       "   prior_question_had_explanation  \n",
       "0                            <NA>  "
      ]
     },
     "execution_count": 4,
     "metadata": {},
     "output_type": "execute_result"
    }
   ],
   "source": [
    "train.head(1)"
   ]
  },
  {
   "cell_type": "markdown",
   "id": "611a8e3b-cca2-4450-8e80-cd0a8d3b45ef",
   "metadata": {},
   "source": [
    "Проверим столбцы и память"
   ]
  },
  {
   "cell_type": "code",
   "execution_count": 5,
   "id": "08deaf20-9bbd-40b1-9750-048c6a37fe0d",
   "metadata": {},
   "outputs": [
    {
     "name": "stdout",
     "output_type": "stream",
     "text": [
      "<class 'pandas.core.frame.DataFrame'>\n",
      "Index: 101230332 entries, 0 to 1080610\n",
      "Data columns (total 10 columns):\n",
      " #   Column                          Dtype  \n",
      "---  ------                          -----  \n",
      " 0   row_id                          int32  \n",
      " 1   timestamp                       int64  \n",
      " 2   user_id                         int32  \n",
      " 3   content_id                      int16  \n",
      " 4   content_type_id                 int8   \n",
      " 5   task_container_id               int16  \n",
      " 6   user_answer                     int8   \n",
      " 7   answered_correctly              int8   \n",
      " 8   prior_question_elapsed_time     float32\n",
      " 9   prior_question_had_explanation  boolean\n",
      "dtypes: boolean(1), float32(1), int16(2), int32(2), int64(1), int8(3)\n",
      "memory usage: 3.5 GB\n"
     ]
    }
   ],
   "source": [
    "train.info()"
   ]
  },
  {
   "cell_type": "markdown",
   "id": "f0981d37-42c8-40dd-ab72-21dcf6c25edb",
   "metadata": {},
   "source": [
    "Не так уж и плохо: 3.5 гига на обработку. Думаю, нам хватит ОЗУ"
   ]
  },
  {
   "cell_type": "code",
   "execution_count": 6,
   "id": "0dcb87bf-3915-41b8-a739-c5c9ae744493",
   "metadata": {},
   "outputs": [
    {
     "name": "stdout",
     "output_type": "stream",
     "text": [
      "У нас всего уникальных юзеров: 393656\n"
     ]
    }
   ],
   "source": [
    "print(f'У нас всего уникальных юзеров: {train.user_id.nunique()}')"
   ]
  },
  {
   "cell_type": "markdown",
   "id": "d15fde8e-8c06-411c-84f3-6c9c709bc322",
   "metadata": {},
   "source": [
    "`content_type_id`: 0, если событие было вопросом, заданным пользователю, и 1, если событие означало, что пользователь смотрел лекцию."
   ]
  },
  {
   "cell_type": "code",
   "execution_count": 7,
   "id": "42b38cd9-4f20-4c73-9a75-20d39d7071e2",
   "metadata": {},
   "outputs": [
    {
     "data": {
      "text/plain": [
       "content_type_id\n",
       "0    99271300\n",
       "1     1959032\n",
       "Name: count, dtype: int64"
      ]
     },
     "execution_count": 7,
     "metadata": {},
     "output_type": "execute_result"
    }
   ],
   "source": [
    "train.content_type_id.value_counts()"
   ]
  },
  {
   "cell_type": "markdown",
   "id": "a6d39f98-f72a-49f9-b37f-e952adc6bfb5",
   "metadata": {},
   "source": [
    "`Content_id` — это код, который показывает, как пользователь взаимодействовал. В Kaggle нам подсказывают: если это вопрос, то `question_id` связан с колонкой `content_id` в данных, когда контент — это именно вопрос."
   ]
  },
  {
   "cell_type": "code",
   "execution_count": 8,
   "id": "ceacc2e4-ead5-44ac-b485-65151f91df6c",
   "metadata": {},
   "outputs": [
    {
     "name": "stdout",
     "output_type": "stream",
     "text": [
      "В нашем тренировочном наборе данных 13782 уникальных content_id, из которых 13523 — это вопросы.\n"
     ]
    }
   ],
   "source": [
    "print(f'В нашем тренировочном наборе данных {train.content_id.nunique()} уникальных content_id, из которых {train[train.content_type_id == 0].content_id.nunique()} — это вопросы.')"
   ]
  },
  {
   "cell_type": "code",
   "execution_count": 11,
   "id": "0c2c84c3-3862-4a4e-8ded-866a70d93c68",
   "metadata": {},
   "outputs": [
    {
     "data": {
      "image/png": "[encoded data removed]",
      "text/plain": [
       "<Figure size 1200x600 with 1 Axes>"
      ]
     },
     "metadata": {},
     "output_type": "display_data"
    }
   ],
   "source": [
    "cids = train.content_id.value_counts()[:10]\n",
    "\n",
    "fig = plt.figure(figsize=(12,6))\n",
    "ax = cids.plot.bar()\n",
    "plt.title(\"10 самых популярных content id\")\n",
    "plt.xticks(rotation=90)\n",
    "plt.show()"
   ]
  },
  {
   "cell_type": "markdown",
   "id": "3142d4d9-37af-449a-aa8d-0bb7d3fdad99",
   "metadata": {},
   "source": [
    "`task_container_id` — это код, который объединяет группу вопросов или лекций. \n",
    "\n",
    "Например, если пользователь видит подряд три вопроса, а потом уже объяснения, то все эти три вопроса будут с одним и тем же `task_container_id`."
   ]
  },
  {
   "cell_type": "code",
   "execution_count": 12,
   "id": "7fc9cac4-e058-4f41-8f7a-d8e38a88b4a3",
   "metadata": {},
   "outputs": [
    {
     "name": "stdout",
     "output_type": "stream",
     "text": [
      "Всего у нас 10000 уникальных батчей вопросов / лекций\n"
     ]
    }
   ],
   "source": [
    "print(f'Всего у нас {train.task_container_id.nunique()} уникальных батчей вопросов / лекций')"
   ]
  },
  {
   "cell_type": "markdown",
   "id": "4c853011-fbe9-44da-8353-fe0964577dcb",
   "metadata": {},
   "source": [
    "`user_answer`: на Kaggle подсказывают, что это вопросы с несколькими вариантами ответа (от 0 до 3). Там же на Kaggle пишут: -1 означает, что ответа нет (потому что взаимодействие было с лекцией, а не с вопросом)."
   ]
  },
  {
   "cell_type": "code",
   "execution_count": 13,
   "id": "90f80e54-daec-4228-b488-5dcb8a601ff8",
   "metadata": {},
   "outputs": [
    {
     "data": {
      "text/plain": [
       "user_answer\n",
       " 0    28186489\n",
       " 1    26990007\n",
       " 3    26084784\n",
       " 2    18010020\n",
       "-1     1959032\n",
       "Name: count, dtype: int64"
      ]
     },
     "execution_count": 13,
     "metadata": {},
     "output_type": "execute_result"
    }
   ],
   "source": [
    "train.user_answer.value_counts()"
   ]
  },
  {
   "cell_type": "markdown",
   "id": "75edc0e5-f366-4ae1-b264-a2cff0b168a9",
   "metadata": {},
   "source": [
    "`timestamp`: время в миллисекундах между этим взаимодействием пользователя и первым завершённым событием от этого пользователя. \n",
    "\n",
    "Видим на графике инсайд: большинство запросов приходят от пользователей, которые совсем недавно появились у нас!"
   ]
  },
  {
   "cell_type": "code",
   "execution_count": 15,
   "id": "e64721e8-2790-45be-b58b-ec6d984bc89f",
   "metadata": {},
   "outputs": [
    {
     "data": {
      "image/png": "[encoded data removed]",
      "text/plain": [
       "<Figure size 1200x600 with 1 Axes>"
      ]
     },
     "metadata": {},
     "output_type": "display_data"
    }
   ],
   "source": [
    "ts = train['timestamp']/(31536000000/12)\n",
    "\n",
    "fig = plt.figure(figsize=(12,6))\n",
    "ts.plot.hist(bins=100)\n",
    "plt.xticks(rotation=0)\n",
    "\n",
    "plt.xlabel(\"Сколько месяцев прошло между запросом юзера и его первым завершённым событием\")\n",
    "\n",
    "plt.show()"
   ]
  },
  {
   "cell_type": "markdown",
   "id": "dc9404f8-c864-4427-8641-0bfe0f5d2add",
   "metadata": {},
   "source": [
    "Answered_correctly - ответил ли юзер правильно. \n",
    "\n",
    "Если мы не учитываем взаимодействия с лекциями, где значение -1, примерно 1/3 вопросов судя по графику была отвечена неправильно"
   ]
  },
  {
   "cell_type": "code",
   "execution_count": 16,
   "id": "5a62b551-a789-4255-88c4-dc0c4346a710",
   "metadata": {},
   "outputs": [
    {
     "data": {
      "image/png": "[encoded data removed]",
      "text/plain": [
       "<Figure size 1200x400 with 1 Axes>"
      ]
     },
     "metadata": {},
     "output_type": "display_data"
    }
   ],
   "source": [
    "correct = train[train.answered_correctly != -1].answered_correctly.value_counts(ascending=True)\n",
    "\n",
    "fig = plt.figure(figsize=(12,4))\n",
    "correct.plot.barh()\n",
    "for i, v in zip(correct.index, correct.values):\n",
    "    plt.text(v, i, '{:,}'.format(v), color='white', fontweight='bold', fontsize=14, ha='right', va='center')\n",
    "plt.title(\"Правильно или неправильно ответили на вопросы?\")\n",
    "plt.xticks(rotation=0)\n",
    "plt.show()"
   ]
  },
  {
   "cell_type": "markdown",
   "id": "e19eb182-c441-4827-8630-7c944e1b4d9b",
   "metadata": {},
   "source": [
    "В целом такой взгляд уже позволяет выделить пару гипотез:\n",
    "\n",
    "1. Большинство взаимодействий приходят от новеньких. Сразу вопрос к продакт менеджеру: почему люди не задают вопросы дальше? Пользователи остаются, но не участвуют в активности, или они покидают продукт? Как устроен первый контакт на взаимодействии, возможно после него и не хочется больше тыкать в наше приложение?\n",
    "\n",
    "2. 2/3 правильно отвечает на вопрос. Для обучающего приложения это высокий показатель? Здесь нужна экспертиза в аналитике EdTech. Как нас учили, DS состоит из трёх голов, и третья голова - это экспертиза в области\n"
   ]
  },
  {
   "cell_type": "markdown",
   "id": "38a99976-9cc3-4fce-a02c-a452e2c562fa",
   "metadata": {},
   "source": [
    "Под конец построим комплексный график, если выдержит ОЗУ :) \n",
    "\n",
    "Проверим, есть ли у наших юзеров корреляция между количеством вопросов и правильным ответом.\n",
    "\n",
    "Если наши методисты постарались, то чем больше пользователь отвечает на вопросы, тем лучше у него будет результат. Но если мы ничему не учим пользователей, то такого результата не будет.\n",
    "\n",
    "Конечно, могут быть и другие аргументы: например, более усердные пользователи отвечают на большее количество вопросов, и за счёт усердности у них всегда лучше результаты. Но мы пока не углубляемся настолько глубоко :)"
   ]
  },
  {
   "cell_type": "markdown",
   "id": "1559385f-b374-4661-8a00-93485da5e83e",
   "metadata": {},
   "source": [
    "Для начала получим для каждого юзера, который отвечал на вопрос, средний балл и количество ответов:"
   ]
  },
  {
   "cell_type": "code",
   "execution_count": 17,
   "id": "3324fc0e-a370-4a1a-9117-04f8bfb573b0",
   "metadata": {},
   "outputs": [],
   "source": [
    "user_percent = train[train.answered_correctly != -1].groupby('user_id')['answered_correctly'].agg(Mean='mean', Answers='count')"
   ]
  },
  {
   "cell_type": "code",
   "execution_count": 19,
   "id": "98a4bae8-1715-44e8-90a7-698ae28d7ba1",
   "metadata": {},
   "outputs": [
    {
     "data": {
      "text/plain": [
       "393656"
      ]
     },
     "execution_count": 19,
     "metadata": {},
     "output_type": "execute_result"
    }
   ],
   "source": [
    "len(user_percent)"
   ]
  },
  {
   "cell_type": "markdown",
   "id": "8feba822-eabc-4b0f-a55a-bcd84d3c511c",
   "metadata": {},
   "source": [
    "Теперь визуализируем их:"
   ]
  },
  {
   "cell_type": "code",
   "execution_count": 20,
   "id": "8c48501b-2913-4623-a9fd-20f84e9e3b65",
   "metadata": {},
   "outputs": [
    {
     "data": {
      "image/png": "[encoded data removed]",
      "text/plain": [
       "<Figure size 1200x600 with 1 Axes>"
      ]
     },
     "metadata": {},
     "output_type": "display_data"
    }
   ],
   "source": [
    "fig = plt.figure(figsize=(12,6))\n",
    "x = user_percent.Answers\n",
    "y = user_percent.Mean\n",
    "plt.scatter(x, y, marker='o')\n",
    "plt.title(\"Percent answered correctly versus number of questions answered User\")\n",
    "plt.xticks(rotation=0)\n",
    "plt.xlabel(\"Number of questions answered\")\n",
    "plt.ylabel(\"Percent answered correctly\")\n",
    "z = np.polyfit(x, y, 1)\n",
    "p = np.poly1d(z)\n",
    "plt.plot(x,p(x),\"r--\")\n",
    "\n",
    "plt.show()"
   ]
  },
  {
   "cell_type": "markdown",
   "id": "4c79913b-f787-4f26-a502-388432de14f3",
   "metadata": {},
   "source": [
    "Корреляция налицо :) Осталось понять, заслуга ли это наших методистов"
   ]
  },
  {
   "cell_type": "markdown",
   "id": "7b984f4b-4786-4922-a6a6-013de9fec2cf",
   "metadata": {},
   "source": [
    "## 2. Продолжим с `questions`"
   ]
  },
  {
   "cell_type": "code",
   "execution_count": 40,
   "id": "046c1342-2912-40fe-bd02-ee28734b10e5",
   "metadata": {},
   "outputs": [],
   "source": [
    "questions = pd.read_csv('questions.csv')"
   ]
  },
  {
   "cell_type": "code",
   "execution_count": 4,
   "id": "1fbe6cb7-30cc-4485-b88f-ad918df485c0",
   "metadata": {},
   "outputs": [
    {
     "name": "stdout",
     "output_type": "stream",
     "text": [
      "(13523, 5)\n"
     ]
    },
    {
     "data": {
      "text/html": [
       "<div>\n",
       "<style scoped>\n",
       "    .dataframe tbody tr th:only-of-type {\n",
       "        vertical-align: middle;\n",
       "    }\n",
       "\n",
       "    .dataframe tbody tr th {\n",
       "        vertical-align: top;\n",
       "    }\n",
       "\n",
       "    .dataframe thead th {\n",
       "        text-align: right;\n",
       "    }\n",
       "</style>\n",
       "<table border=\"1\" class=\"dataframe\">\n",
       "  <thead>\n",
       "    <tr style=\"text-align: right;\">\n",
       "      <th></th>\n",
       "      <th>question_id</th>\n",
       "      <th>bundle_id</th>\n",
       "      <th>correct_answer</th>\n",
       "      <th>part</th>\n",
       "      <th>tags</th>\n",
       "    </tr>\n",
       "  </thead>\n",
       "  <tbody>\n",
       "    <tr>\n",
       "      <th>0</th>\n",
       "      <td>0</td>\n",
       "      <td>0</td>\n",
       "      <td>0</td>\n",
       "      <td>1</td>\n",
       "      <td>51 131 162 38</td>\n",
       "    </tr>\n",
       "  </tbody>\n",
       "</table>\n",
       "</div>"
      ],
      "text/plain": [
       "   question_id  bundle_id  correct_answer  part           tags\n",
       "0            0          0               0     1  51 131 162 38"
      ]
     },
     "execution_count": 4,
     "metadata": {},
     "output_type": "execute_result"
    }
   ],
   "source": [
    "print(questions.shape)\n",
    "questions.head(1)"
   ]
  },
  {
   "cell_type": "code",
   "execution_count": 6,
   "id": "8821d374-b4c8-4828-9b0d-03bf55c43fc6",
   "metadata": {},
   "outputs": [
    {
     "name": "stdout",
     "output_type": "stream",
     "text": [
      "<class 'pandas.core.frame.DataFrame'>\n",
      "RangeIndex: 13523 entries, 0 to 13522\n",
      "Data columns (total 5 columns):\n",
      " #   Column          Non-Null Count  Dtype \n",
      "---  ------          --------------  ----- \n",
      " 0   question_id     13523 non-null  int64 \n",
      " 1   bundle_id       13523 non-null  int64 \n",
      " 2   correct_answer  13523 non-null  int64 \n",
      " 3   part            13523 non-null  int64 \n",
      " 4   tags            13522 non-null  object\n",
      "dtypes: int64(4), object(1)\n",
      "memory usage: 528.4+ KB\n"
     ]
    }
   ],
   "source": [
    "questions.info()"
   ]
  },
  {
   "cell_type": "code",
   "execution_count": 17,
   "id": "16f22d3c-7a6c-4f70-a527-1a5411276dec",
   "metadata": {},
   "outputs": [
    {
     "data": {
      "text/html": [
       "<div>\n",
       "<style scoped>\n",
       "    .dataframe tbody tr th:only-of-type {\n",
       "        vertical-align: middle;\n",
       "    }\n",
       "\n",
       "    .dataframe tbody tr th {\n",
       "        vertical-align: top;\n",
       "    }\n",
       "\n",
       "    .dataframe thead th {\n",
       "        text-align: right;\n",
       "    }\n",
       "</style>\n",
       "<table border=\"1\" class=\"dataframe\">\n",
       "  <thead>\n",
       "    <tr style=\"text-align: right;\">\n",
       "      <th></th>\n",
       "      <th>question_id</th>\n",
       "      <th>bundle_id</th>\n",
       "      <th>correct_answer</th>\n",
       "      <th>part</th>\n",
       "    </tr>\n",
       "  </thead>\n",
       "  <tbody>\n",
       "    <tr>\n",
       "      <th>count</th>\n",
       "      <td>13523.00000</td>\n",
       "      <td>13523.000000</td>\n",
       "      <td>13523.000000</td>\n",
       "      <td>13523.000000</td>\n",
       "    </tr>\n",
       "    <tr>\n",
       "      <th>mean</th>\n",
       "      <td>6761.00000</td>\n",
       "      <td>6760.510907</td>\n",
       "      <td>1.455298</td>\n",
       "      <td>4.264956</td>\n",
       "    </tr>\n",
       "    <tr>\n",
       "      <th>std</th>\n",
       "      <td>3903.89818</td>\n",
       "      <td>3903.857783</td>\n",
       "      <td>1.149707</td>\n",
       "      <td>1.652553</td>\n",
       "    </tr>\n",
       "    <tr>\n",
       "      <th>min</th>\n",
       "      <td>0.00000</td>\n",
       "      <td>0.000000</td>\n",
       "      <td>0.000000</td>\n",
       "      <td>1.000000</td>\n",
       "    </tr>\n",
       "    <tr>\n",
       "      <th>25%</th>\n",
       "      <td>3380.50000</td>\n",
       "      <td>3379.500000</td>\n",
       "      <td>0.000000</td>\n",
       "      <td>3.000000</td>\n",
       "    </tr>\n",
       "    <tr>\n",
       "      <th>50%</th>\n",
       "      <td>6761.00000</td>\n",
       "      <td>6761.000000</td>\n",
       "      <td>1.000000</td>\n",
       "      <td>5.000000</td>\n",
       "    </tr>\n",
       "    <tr>\n",
       "      <th>75%</th>\n",
       "      <td>10141.50000</td>\n",
       "      <td>10140.000000</td>\n",
       "      <td>3.000000</td>\n",
       "      <td>5.000000</td>\n",
       "    </tr>\n",
       "    <tr>\n",
       "      <th>max</th>\n",
       "      <td>13522.00000</td>\n",
       "      <td>13522.000000</td>\n",
       "      <td>3.000000</td>\n",
       "      <td>7.000000</td>\n",
       "    </tr>\n",
       "  </tbody>\n",
       "</table>\n",
       "</div>"
      ],
      "text/plain": [
       "       question_id     bundle_id  correct_answer          part\n",
       "count  13523.00000  13523.000000    13523.000000  13523.000000\n",
       "mean    6761.00000   6760.510907        1.455298      4.264956\n",
       "std     3903.89818   3903.857783        1.149707      1.652553\n",
       "min        0.00000      0.000000        0.000000      1.000000\n",
       "25%     3380.50000   3379.500000        0.000000      3.000000\n",
       "50%     6761.00000   6761.000000        1.000000      5.000000\n",
       "75%    10141.50000  10140.000000        3.000000      5.000000\n",
       "max    13522.00000  13522.000000        3.000000      7.000000"
      ]
     },
     "execution_count": 17,
     "metadata": {},
     "output_type": "execute_result"
    }
   ],
   "source": [
    "questions.describe()"
   ]
  },
  {
   "cell_type": "markdown",
   "id": "d43eefd5-8974-445e-90d7-3cca4cfa9780",
   "metadata": {},
   "source": [
    "`questions` гораздо приятнее для ОЗУ :)"
   ]
  },
  {
   "cell_type": "markdown",
   "id": "aaa37cf8-76b2-4d63-b606-627eabec6371",
   "metadata": {},
   "source": [
    "Проверим, где у нас затесались `NaN`:"
   ]
  },
  {
   "cell_type": "code",
   "execution_count": 42,
   "id": "61e465bb-3820-4c7f-a308-5921134a7ff7",
   "metadata": {},
   "outputs": [
    {
     "data": {
      "text/html": [
       "<div>\n",
       "<style scoped>\n",
       "    .dataframe tbody tr th:only-of-type {\n",
       "        vertical-align: middle;\n",
       "    }\n",
       "\n",
       "    .dataframe tbody tr th {\n",
       "        vertical-align: top;\n",
       "    }\n",
       "\n",
       "    .dataframe thead th {\n",
       "        text-align: right;\n",
       "    }\n",
       "</style>\n",
       "<table border=\"1\" class=\"dataframe\">\n",
       "  <thead>\n",
       "    <tr style=\"text-align: right;\">\n",
       "      <th></th>\n",
       "      <th>question_id</th>\n",
       "      <th>bundle_id</th>\n",
       "      <th>correct_answer</th>\n",
       "      <th>part</th>\n",
       "      <th>tags</th>\n",
       "    </tr>\n",
       "  </thead>\n",
       "  <tbody>\n",
       "  </tbody>\n",
       "</table>\n",
       "</div>"
      ],
      "text/plain": [
       "Empty DataFrame\n",
       "Columns: [question_id, bundle_id, correct_answer, part, tags]\n",
       "Index: []"
      ]
     },
     "execution_count": 42,
     "metadata": {},
     "output_type": "execute_result"
    }
   ],
   "source": [
    "questions[questions.question_id.isna()]"
   ]
  },
  {
   "cell_type": "code",
   "execution_count": 43,
   "id": "1387b893-ce81-41ad-9ec4-b2b3e2a7095e",
   "metadata": {},
   "outputs": [
    {
     "data": {
      "text/html": [
       "<div>\n",
       "<style scoped>\n",
       "    .dataframe tbody tr th:only-of-type {\n",
       "        vertical-align: middle;\n",
       "    }\n",
       "\n",
       "    .dataframe tbody tr th {\n",
       "        vertical-align: top;\n",
       "    }\n",
       "\n",
       "    .dataframe thead th {\n",
       "        text-align: right;\n",
       "    }\n",
       "</style>\n",
       "<table border=\"1\" class=\"dataframe\">\n",
       "  <thead>\n",
       "    <tr style=\"text-align: right;\">\n",
       "      <th></th>\n",
       "      <th>question_id</th>\n",
       "      <th>bundle_id</th>\n",
       "      <th>correct_answer</th>\n",
       "      <th>part</th>\n",
       "      <th>tags</th>\n",
       "    </tr>\n",
       "  </thead>\n",
       "  <tbody>\n",
       "  </tbody>\n",
       "</table>\n",
       "</div>"
      ],
      "text/plain": [
       "Empty DataFrame\n",
       "Columns: [question_id, bundle_id, correct_answer, part, tags]\n",
       "Index: []"
      ]
     },
     "execution_count": 43,
     "metadata": {},
     "output_type": "execute_result"
    }
   ],
   "source": [
    "questions[questions.bundle_id.isnull()]"
   ]
  },
  {
   "cell_type": "code",
   "execution_count": 44,
   "id": "d04efff3-870a-4ccd-93bf-9cafe2b7369f",
   "metadata": {},
   "outputs": [
    {
     "data": {
      "text/html": [
       "<div>\n",
       "<style scoped>\n",
       "    .dataframe tbody tr th:only-of-type {\n",
       "        vertical-align: middle;\n",
       "    }\n",
       "\n",
       "    .dataframe tbody tr th {\n",
       "        vertical-align: top;\n",
       "    }\n",
       "\n",
       "    .dataframe thead th {\n",
       "        text-align: right;\n",
       "    }\n",
       "</style>\n",
       "<table border=\"1\" class=\"dataframe\">\n",
       "  <thead>\n",
       "    <tr style=\"text-align: right;\">\n",
       "      <th></th>\n",
       "      <th>question_id</th>\n",
       "      <th>bundle_id</th>\n",
       "      <th>correct_answer</th>\n",
       "      <th>part</th>\n",
       "      <th>tags</th>\n",
       "    </tr>\n",
       "  </thead>\n",
       "  <tbody>\n",
       "  </tbody>\n",
       "</table>\n",
       "</div>"
      ],
      "text/plain": [
       "Empty DataFrame\n",
       "Columns: [question_id, bundle_id, correct_answer, part, tags]\n",
       "Index: []"
      ]
     },
     "execution_count": 44,
     "metadata": {},
     "output_type": "execute_result"
    }
   ],
   "source": [
    "questions[questions.correct_answer.isnull()]"
   ]
  },
  {
   "cell_type": "code",
   "execution_count": 45,
   "id": "573ad095-7b5b-4265-9689-829b7c98713c",
   "metadata": {},
   "outputs": [
    {
     "data": {
      "text/html": [
       "<div>\n",
       "<style scoped>\n",
       "    .dataframe tbody tr th:only-of-type {\n",
       "        vertical-align: middle;\n",
       "    }\n",
       "\n",
       "    .dataframe tbody tr th {\n",
       "        vertical-align: top;\n",
       "    }\n",
       "\n",
       "    .dataframe thead th {\n",
       "        text-align: right;\n",
       "    }\n",
       "</style>\n",
       "<table border=\"1\" class=\"dataframe\">\n",
       "  <thead>\n",
       "    <tr style=\"text-align: right;\">\n",
       "      <th></th>\n",
       "      <th>question_id</th>\n",
       "      <th>bundle_id</th>\n",
       "      <th>correct_answer</th>\n",
       "      <th>part</th>\n",
       "      <th>tags</th>\n",
       "    </tr>\n",
       "  </thead>\n",
       "  <tbody>\n",
       "  </tbody>\n",
       "</table>\n",
       "</div>"
      ],
      "text/plain": [
       "Empty DataFrame\n",
       "Columns: [question_id, bundle_id, correct_answer, part, tags]\n",
       "Index: []"
      ]
     },
     "execution_count": 45,
     "metadata": {},
     "output_type": "execute_result"
    }
   ],
   "source": [
    "questions[questions.part.isnull()]"
   ]
  },
  {
   "cell_type": "code",
   "execution_count": 46,
   "id": "bb571b54-d102-4ede-9b73-0b9ebe85bb21",
   "metadata": {},
   "outputs": [
    {
     "data": {
      "text/html": [
       "<div>\n",
       "<style scoped>\n",
       "    .dataframe tbody tr th:only-of-type {\n",
       "        vertical-align: middle;\n",
       "    }\n",
       "\n",
       "    .dataframe tbody tr th {\n",
       "        vertical-align: top;\n",
       "    }\n",
       "\n",
       "    .dataframe thead th {\n",
       "        text-align: right;\n",
       "    }\n",
       "</style>\n",
       "<table border=\"1\" class=\"dataframe\">\n",
       "  <thead>\n",
       "    <tr style=\"text-align: right;\">\n",
       "      <th></th>\n",
       "      <th>question_id</th>\n",
       "      <th>bundle_id</th>\n",
       "      <th>correct_answer</th>\n",
       "      <th>part</th>\n",
       "      <th>tags</th>\n",
       "    </tr>\n",
       "  </thead>\n",
       "  <tbody>\n",
       "    <tr>\n",
       "      <th>10033</th>\n",
       "      <td>10033</td>\n",
       "      <td>10033</td>\n",
       "      <td>2</td>\n",
       "      <td>6</td>\n",
       "      <td>NaN</td>\n",
       "    </tr>\n",
       "  </tbody>\n",
       "</table>\n",
       "</div>"
      ],
      "text/plain": [
       "       question_id  bundle_id  correct_answer  part tags\n",
       "10033        10033      10033               2     6  NaN"
      ]
     },
     "execution_count": 46,
     "metadata": {},
     "output_type": "execute_result"
    }
   ],
   "source": [
    "questions[questions.tags.isna()]"
   ]
  },
  {
   "cell_type": "markdown",
   "id": "587315d3-a630-4a00-851a-196468b1096c",
   "metadata": {},
   "source": [
    "Я сразу обращаю ванимание на `tags`, выглядит интересно.\n",
    "\n",
    "`tags`: один или несколько детализированных кодов тегов для вопроса. Значение этих тегов не будет предоставлено, но этих кодов достаточно для того, чтобы сгруппировать вопросы вместе."
   ]
  },
  {
   "cell_type": "code",
   "execution_count": 47,
   "id": "39977741-045d-4326-88c6-4a6559e3e0a4",
   "metadata": {},
   "outputs": [
    {
     "data": {
      "text/html": [
       "<div>\n",
       "<style scoped>\n",
       "    .dataframe tbody tr th:only-of-type {\n",
       "        vertical-align: middle;\n",
       "    }\n",
       "\n",
       "    .dataframe tbody tr th {\n",
       "        vertical-align: top;\n",
       "    }\n",
       "\n",
       "    .dataframe thead th {\n",
       "        text-align: right;\n",
       "    }\n",
       "</style>\n",
       "<table border=\"1\" class=\"dataframe\">\n",
       "  <thead>\n",
       "    <tr style=\"text-align: right;\">\n",
       "      <th></th>\n",
       "      <th>question_id</th>\n",
       "      <th>bundle_id</th>\n",
       "      <th>correct_answer</th>\n",
       "      <th>part</th>\n",
       "      <th>tags</th>\n",
       "    </tr>\n",
       "  </thead>\n",
       "  <tbody>\n",
       "    <tr>\n",
       "      <th>10033</th>\n",
       "      <td>10033</td>\n",
       "      <td>10033</td>\n",
       "      <td>2</td>\n",
       "      <td>6</td>\n",
       "      <td>NaN</td>\n",
       "    </tr>\n",
       "  </tbody>\n",
       "</table>\n",
       "</div>"
      ],
      "text/plain": [
       "       question_id  bundle_id  correct_answer  part tags\n",
       "10033        10033      10033               2     6  NaN"
      ]
     },
     "execution_count": 47,
     "metadata": {},
     "output_type": "execute_result"
    }
   ],
   "source": [
    "questions[questions.tags.isna()]"
   ]
  },
  {
   "cell_type": "markdown",
   "id": "710ff471-5f54-453e-9ca8-7abe45a8a614",
   "metadata": {},
   "source": [
    "Только один вопросик без тэга"
   ]
  },
  {
   "cell_type": "code",
   "execution_count": 14,
   "id": "da1d8ec1-ba62-4306-9f96-08427d72470c",
   "metadata": {},
   "outputs": [
    {
     "name": "stdout",
     "output_type": "stream",
     "text": [
      "Всего у нас уникальных тэгов: 188\n"
     ]
    }
   ],
   "source": [
    "questions['tags'] = questions['tags'].astype(str)\n",
    "\n",
    "tags = [x.split() for x in questions[questions.tags != \"nan\"].tags.values]\n",
    "tags = [item for elem in tags for item in elem]\n",
    "tags = set(tags)\n",
    "print(f'Всего у нас уникальных тэгов: {len(tags)}')"
   ]
  },
  {
   "cell_type": "markdown",
   "id": "12a2da6a-afa9-4d10-9480-e89cb537ffa6",
   "metadata": {},
   "source": [
    "Тут сам файл кажется попроще, поэтому мы можем провести разбор каждого столбца"
   ]
  },
  {
   "cell_type": "code",
   "execution_count": 19,
   "id": "812bc64b-18c5-4fac-8e5c-72ca657eee0f",
   "metadata": {},
   "outputs": [
    {
     "data": {
      "text/plain": [
       "question_id\n",
       "13522    1\n",
       "0        1\n",
       "1        1\n",
       "13506    1\n",
       "13505    1\n",
       "        ..\n",
       "7        1\n",
       "6        1\n",
       "5        1\n",
       "4        1\n",
       "3        1\n",
       "Name: count, Length: 13523, dtype: int64"
      ]
     },
     "execution_count": 19,
     "metadata": {},
     "output_type": "execute_result"
    }
   ],
   "source": [
    "def get_vc(col):\n",
    "    return col.value_counts()\n",
    "    \n",
    "get_vc(questions.question_id)"
   ]
  },
  {
   "cell_type": "code",
   "execution_count": 20,
   "id": "a1a18034-fcd3-4f48-a971-59551ae98dd4",
   "metadata": {},
   "outputs": [
    {
     "data": {
      "text/plain": [
       "correct_answer\n",
       "0    3716\n",
       "3    3544\n",
       "1    3478\n",
       "2    2785\n",
       "Name: count, dtype: int64"
      ]
     },
     "execution_count": 20,
     "metadata": {},
     "output_type": "execute_result"
    }
   ],
   "source": [
    "get_vc(questions.correct_answer)"
   ]
  },
  {
   "cell_type": "code",
   "execution_count": 25,
   "id": "6073e3c3-7078-4a9e-a10d-73baf1d69053",
   "metadata": {},
   "outputs": [
    {
     "data": {
      "image/png": "[encoded data removed]",
      "text/plain": [
       "<Figure size 1200x600 with 1 Axes>"
      ]
     },
     "metadata": {},
     "output_type": "display_data"
    }
   ],
   "source": [
    "fig = plt.figure(figsize=(12,6))\n",
    "ax = questions.correct_answer.value_counts().plot.bar()\n",
    "plt.title(\"Как разбиты ответы в датасете\")\n",
    "plt.xticks(rotation=360)\n",
    "plt.show()"
   ]
  },
  {
   "cell_type": "markdown",
   "id": "9aad39af-1c26-47d4-84d3-9b23fc595445",
   "metadata": {},
   "source": [
    "Видно, что ответы разбиты почти равномерно"
   ]
  },
  {
   "cell_type": "code",
   "execution_count": 26,
   "id": "cd879c7a-4634-4d02-81a5-f4d8541106a1",
   "metadata": {},
   "outputs": [
    {
     "data": {
      "text/plain": [
       "part\n",
       "5    5511\n",
       "2    1647\n",
       "3    1562\n",
       "4    1439\n",
       "6    1212\n",
       "7    1160\n",
       "1     992\n",
       "Name: count, dtype: int64"
      ]
     },
     "execution_count": 26,
     "metadata": {},
     "output_type": "execute_result"
    }
   ],
   "source": [
    "get_vc(questions.part)"
   ]
  },
  {
   "cell_type": "code",
   "execution_count": 28,
   "id": "45584822-beb4-4678-a17b-d9c53d5dad34",
   "metadata": {},
   "outputs": [
    {
     "data": {
      "image/png": "[encoded data removed]",
      "text/plain": [
       "<Figure size 1200x600 with 1 Axes>"
      ]
     },
     "metadata": {},
     "output_type": "display_data"
    }
   ],
   "source": [
    "fig = plt.figure(figsize=(12,6))\n",
    "ax = questions.part.value_counts().plot.bar()\n",
    "plt.title(\"На какие части поделены вопросы\")\n",
    "plt.xticks(rotation=360)\n",
    "plt.show()"
   ]
  },
  {
   "cell_type": "markdown",
   "id": "c47b86af-aeae-4fb3-877f-61ad27a52216",
   "metadata": {},
   "source": [
    "А в частях мы видим преобладание пятой части над всеми. Интересно, почему так"
   ]
  },
  {
   "cell_type": "code",
   "execution_count": 50,
   "id": "00a2dace-e76b-4840-a6f2-1bd5c255d7b3",
   "metadata": {},
   "outputs": [],
   "source": [
    "del questions"
   ]
  },
  {
   "cell_type": "markdown",
   "id": "415de4a4-9389-497c-9f35-ee4bbbbe595a",
   "metadata": {},
   "source": [
    "## 3. Заканчиваем с `lectures`"
   ]
  },
  {
   "cell_type": "code",
   "execution_count": 48,
   "id": "abf5b9c8-d3ab-490a-9975-ba0ece24c59d",
   "metadata": {},
   "outputs": [],
   "source": [
    "lectures = pd.read_csv('lectures.csv')"
   ]
  },
  {
   "cell_type": "markdown",
   "id": "67822578-eeb3-440a-bb11-14a3be58dd23",
   "metadata": {},
   "source": [
    "print(lectures.shape)\n",
    "lectures.head(1)"
   ]
  },
  {
   "cell_type": "code",
   "execution_count": 51,
   "id": "1a0bf896-5f76-4266-bc23-db7909d414a7",
   "metadata": {},
   "outputs": [
    {
     "name": "stdout",
     "output_type": "stream",
     "text": [
      "<class 'pandas.core.frame.DataFrame'>\n",
      "RangeIndex: 418 entries, 0 to 417\n",
      "Data columns (total 4 columns):\n",
      " #   Column      Non-Null Count  Dtype \n",
      "---  ------      --------------  ----- \n",
      " 0   lecture_id  418 non-null    int64 \n",
      " 1   tag         418 non-null    int64 \n",
      " 2   part        418 non-null    int64 \n",
      " 3   type_of     418 non-null    object\n",
      "dtypes: int64(3), object(1)\n",
      "memory usage: 13.2+ KB\n"
     ]
    }
   ],
   "source": [
    "lectures.info()"
   ]
  },
  {
   "cell_type": "code",
   "execution_count": 62,
   "id": "14ddade7-1b8f-4110-bef1-6f03fc69a89c",
   "metadata": {},
   "outputs": [],
   "source": [
    "assert len(lectures) == len(set(lectures.lecture_id))"
   ]
  },
  {
   "cell_type": "markdown",
   "id": "db289699-7d72-4ac8-9708-e6d0d5cef99e",
   "metadata": {},
   "source": [
    "`id` лекций не повторяется, что хорошо)"
   ]
  },
  {
   "cell_type": "markdown",
   "id": "84933f58-a276-45a4-9339-ec7d984ec6a1",
   "metadata": {},
   "source": [
    "Датасет совсем небольшой, приятно"
   ]
  },
  {
   "cell_type": "code",
   "execution_count": 53,
   "id": "6f58b413-ec4a-40fe-b306-d5b6646d27e0",
   "metadata": {},
   "outputs": [
    {
     "data": {
      "text/html": [
       "<div>\n",
       "<style scoped>\n",
       "    .dataframe tbody tr th:only-of-type {\n",
       "        vertical-align: middle;\n",
       "    }\n",
       "\n",
       "    .dataframe tbody tr th {\n",
       "        vertical-align: top;\n",
       "    }\n",
       "\n",
       "    .dataframe thead th {\n",
       "        text-align: right;\n",
       "    }\n",
       "</style>\n",
       "<table border=\"1\" class=\"dataframe\">\n",
       "  <thead>\n",
       "    <tr style=\"text-align: right;\">\n",
       "      <th></th>\n",
       "      <th>lecture_id</th>\n",
       "      <th>tag</th>\n",
       "      <th>part</th>\n",
       "    </tr>\n",
       "  </thead>\n",
       "  <tbody>\n",
       "    <tr>\n",
       "      <th>count</th>\n",
       "      <td>418.000000</td>\n",
       "      <td>418.000000</td>\n",
       "      <td>418.000000</td>\n",
       "    </tr>\n",
       "    <tr>\n",
       "      <th>mean</th>\n",
       "      <td>16983.401914</td>\n",
       "      <td>94.480861</td>\n",
       "      <td>4.267943</td>\n",
       "    </tr>\n",
       "    <tr>\n",
       "      <th>std</th>\n",
       "      <td>9426.164660</td>\n",
       "      <td>53.586487</td>\n",
       "      <td>1.872424</td>\n",
       "    </tr>\n",
       "    <tr>\n",
       "      <th>min</th>\n",
       "      <td>89.000000</td>\n",
       "      <td>0.000000</td>\n",
       "      <td>1.000000</td>\n",
       "    </tr>\n",
       "    <tr>\n",
       "      <th>25%</th>\n",
       "      <td>9026.250000</td>\n",
       "      <td>50.250000</td>\n",
       "      <td>2.000000</td>\n",
       "    </tr>\n",
       "    <tr>\n",
       "      <th>50%</th>\n",
       "      <td>17161.500000</td>\n",
       "      <td>94.500000</td>\n",
       "      <td>5.000000</td>\n",
       "    </tr>\n",
       "    <tr>\n",
       "      <th>75%</th>\n",
       "      <td>24906.250000</td>\n",
       "      <td>140.000000</td>\n",
       "      <td>6.000000</td>\n",
       "    </tr>\n",
       "    <tr>\n",
       "      <th>max</th>\n",
       "      <td>32736.000000</td>\n",
       "      <td>187.000000</td>\n",
       "      <td>7.000000</td>\n",
       "    </tr>\n",
       "  </tbody>\n",
       "</table>\n",
       "</div>"
      ],
      "text/plain": [
       "         lecture_id         tag        part\n",
       "count    418.000000  418.000000  418.000000\n",
       "mean   16983.401914   94.480861    4.267943\n",
       "std     9426.164660   53.586487    1.872424\n",
       "min       89.000000    0.000000    1.000000\n",
       "25%     9026.250000   50.250000    2.000000\n",
       "50%    17161.500000   94.500000    5.000000\n",
       "75%    24906.250000  140.000000    6.000000\n",
       "max    32736.000000  187.000000    7.000000"
      ]
     },
     "execution_count": 53,
     "metadata": {},
     "output_type": "execute_result"
    }
   ],
   "source": [
    "lectures.describe()"
   ]
  },
  {
   "cell_type": "markdown",
   "id": "67d35dc9-eb29-445c-b3e0-75dcaf85a060",
   "metadata": {},
   "source": [
    "Всё выглядит логично"
   ]
  },
  {
   "cell_type": "markdown",
   "id": "413074de-e860-4f9b-890a-4c16a606f41c",
   "metadata": {},
   "source": [
    "Проверим `NaN` в наших данных, их не должно быть:"
   ]
  },
  {
   "cell_type": "code",
   "execution_count": 58,
   "id": "ce9bf71b-7b12-452e-8234-7e64e160ca58",
   "metadata": {},
   "outputs": [
    {
     "data": {
      "text/plain": [
       "lecture_id    False\n",
       "tag           False\n",
       "part          False\n",
       "type_of       False\n",
       "dtype: bool"
      ]
     },
     "execution_count": 58,
     "metadata": {},
     "output_type": "execute_result"
    }
   ],
   "source": [
    "lectures.isna().any()"
   ]
  },
  {
   "cell_type": "markdown",
   "id": "3512a861-15e1-421d-847f-e6f496346687",
   "metadata": {},
   "source": [
    "Их нет :) Очень удобно"
   ]
  },
  {
   "cell_type": "markdown",
   "id": "b1ee15d4-8de5-4e77-b4a4-6888838e8395",
   "metadata": {},
   "source": [
    "Посмотрим на типы лекций: "
   ]
  },
  {
   "cell_type": "code",
   "execution_count": 55,
   "id": "c9f7c54f-df00-4362-9d8a-5c3b412cd53e",
   "metadata": {},
   "outputs": [
    {
     "data": {
      "image/png": "[encoded data removed]",
      "text/plain": [
       "<Figure size 1200x600 with 1 Axes>"
      ]
     },
     "metadata": {},
     "output_type": "display_data"
    }
   ],
   "source": [
    "lect_type_of = lectures.type_of.value_counts()\n",
    "\n",
    "fig = plt.figure(figsize=(12,6))\n",
    "plt.bar(lect_type_of.index, lect_type_of.values)\n",
    "for i, v in zip(lect_type_of.index, lect_type_of.values):\n",
    "    plt.text(i, v, v, color='black', fontweight='bold', fontsize=14, va='bottom', ha='center')\n",
    "plt.title(\"Типы лекций:\")\n",
    "plt.xlabel(\"Тип\")\n",
    "plt.ylabel(\"Кол-во\")\n",
    "plt.show()"
   ]
  },
  {
   "cell_type": "markdown",
   "id": "46a6cb61-9ea4-4f10-a905-1e74f5d57ada",
   "metadata": {},
   "source": [
    "Судя по всему, неравенство очень жёсткое. Первых двух в десятки раз больше"
   ]
  },
  {
   "cell_type": "code",
   "execution_count": 60,
   "id": "dddbe2ee-c942-42f3-b9f7-c63d01cf49d9",
   "metadata": {},
   "outputs": [
    {
     "data": {
      "image/png": "[encoded data removed]",
      "text/plain": [
       "<Figure size 1200x600 with 1 Axes>"
      ]
     },
     "metadata": {},
     "output_type": "display_data"
    }
   ],
   "source": [
    "fig = plt.figure(figsize=(12,6))\n",
    "ax = lectures.part.value_counts().plot.bar()\n",
    "plt.title(\"По каким частям разбиты лекции:\")\n",
    "plt.xticks(rotation=360)\n",
    "plt.show()"
   ]
  },
  {
   "cell_type": "markdown",
   "id": "875a9a5e-c7f7-482c-a298-5befa07e3ae1",
   "metadata": {},
   "source": [
    "Мы опять видим преобладание пятой части! Как и в вопросах"
   ]
  },
  {
   "cell_type": "markdown",
   "id": "bf277889-c910-4285-9b64-a665097a49cd",
   "metadata": {},
   "source": [
    "Несмотря на то, что данные не такие интересные, мы всё равно нашли вопрос для наших методистов / продакт менеджеров: \n",
    "\n",
    " - почему `#5` тема настолько лучше раскрыта чем все остальные?\n",
    " - не следует ли распределить материал более равномерно, например к теме 3 и 4?"
   ]
  },
  {
   "cell_type": "markdown",
   "id": "f0145cac-4e4c-4465-97da-158dcfc3a421",
   "metadata": {},
   "source": [
    "---------------------------------------"
   ]
  },
  {
   "cell_type": "markdown",
   "id": "17d5a32b-c154-4cfd-ba68-e71594185902",
   "metadata": {},
   "source": [
    "Вот такой EDA. Для меня было настоящим вызовом прогрузить датасет `train`, и я открыл для себя `dask.dataframe`. Теперь обязательно буду пользоваться такой палочкой-выручалочкой :)"
   ]
  }
 ],
 "metadata": {
  "kernelspec": {
   "display_name": "Python 3 (ipykernel)",
   "language": "python",
   "name": "python3"
  },
  "language_info": {
   "codemirror_mode": {
    "name": "ipython",
    "version": 3
   },
   "file_extension": ".py",
   "mimetype": "text/x-python",
   "name": "python",
   "nbconvert_exporter": "python",
   "pygments_lexer": "ipython3",
   "version": "3.12.4"
  }
 },
 "nbformat": 4,
 "nbformat_minor": 5
}
